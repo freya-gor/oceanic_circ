{
 "cells": [
  {
   "cell_type": "code",
   "execution_count": 10,
   "id": "e23dbcf0",
   "metadata": {},
   "outputs": [
    {
     "data": {
      "text/plain": [
       "<matplotlib.contour.QuadContourSet at 0x7fd76a9212b0>"
      ]
     },
     "execution_count": 10,
     "metadata": {},
     "output_type": "execute_result"
    },
    {
     "data": {
      "image/png": "[encoded data removed]",
      "text/plain": [
       "<Figure size 720x432 with 1 Axes>"
      ]
     },
     "metadata": {
      "needs_background": "light"
     },
     "output_type": "display_data"
    }
   ],
   "source": [
    "import numpy as np\n",
    "import matplotlib.pyplot as plt \n",
    "import scipy.sparse as sp\n",
    "from scipy.sparse.linalg import spsolve\n",
    "from matplotlib import animation\n",
    "from tqdm import tqdm\n",
    "\n",
    "# beta = 2e-11\n",
    "# v = 500\n",
    "# r = 1e-7\n",
    "# dt = 30 min\n",
    "# a = 2000 km\n",
    "\n",
    "def laplacian2D(N):\n",
    "    diag=np.ones([N*N])\n",
    "    mat=sp.spdiags([diag,-2*diag,diag],[-1,0,1],N,N)\n",
    "    I=sp.eye(N)\n",
    "    return sp.kron(I,mat,format='csr')+sp.kron(mat,I)\n",
    "\n",
    "def ddx2D(N):\n",
    "    diag=np.ones([N*N])\n",
    "    mat=sp.spdiags([-diag,0*diag,diag],[-1,0,1],N,N)\n",
    "    I=sp.eye(N)\n",
    "    return sp.kron(I,mat,format='csr')\n",
    "\n",
    "def ddy2D(N):\n",
    "    diag=np.ones([N*N])\n",
    "    mat=sp.spdiags([-diag,0*diag,diag],[-1,0,1],N,N)\n",
    "    I=sp.eye(N)\n",
    "    return sp.kron(mat,I)\n",
    "\n",
    "N = 100\n",
    "dx = 1/N\n",
    "x = np.linspace(dx,1-dx,N-1)\n",
    "y = np.linspace(dx,1-dx,N-1)\n",
    "x, y = np.meshgrid(x,y)\n",
    "pi = np.pi\n",
    "dt = 1800\n",
    "T = 1/dt\n",
    "a = 2e6\n",
    "\n",
    "lap = laplacian2D(N-1)/dx**2\n",
    "ddx = ddx2D(N-1)/(2*dx)\n",
    "ddy = ddy2D(N-1)/(2*dx)\n",
    "\n",
    "r = 1e-7\n",
    "beta = 2e-11\n",
    "\n",
    "niter = 20000\n",
    "nframes = 2000\n",
    "\n",
    "for nu in [500]: #[0.5, 0.1, 0.05, 0.01, 0.001, 0.0001, -0.01, -0.1]:\n",
    "    for taucoef in [1e-13]: #[np.pi, 1, 0.5, 0.1, -0.1, -0.5, -1, -np.pi]:\n",
    "\n",
    "        #A = r * lap + beta * ddx\n",
    "        B = - (nu/a**4) * lap.dot(lap) + (beta/a) * ddx #+ (r/a**2) * lap\n",
    "        C = ((T + r)/a**2) * lap - (nu/a**4) * lap.dot(lap) + (beta/a) * ddx\n",
    "        f = -taucoef * np.sin(pi*y)\n",
    "        f_long = np.reshape(f,(N-1)**2)\n",
    "\n",
    "        psi_long = spsolve(B,f_long)\n",
    "        psi = np.reshape(psi_long,(N-1,N-1)) \n",
    "\n",
    "        psis = []\n",
    "\n",
    "        for i in tqdm(range(niter)):\n",
    "            q_long = lap.dot(psi_long)\n",
    "            q_long_x = ddx.dot(q_long)\n",
    "            q_long_y = ddy.dot(q_long)\n",
    "            psi_long_x = ddx.dot(psi_long)\n",
    "            psi_long_y = ddy.dot(psi_long)\n",
    "            rhs_long = f_long - (psi_long_x*q_long_y - psi_long_y*q_long_x)/(a**4) + (T * q_long)/(a**2)\n",
    "            \n",
    "            \n",
    "            #psi_long = spsolve(A,rhs_long)\n",
    "            psi_long = spsolve(C, rhs_long)\n",
    "\n",
    "            if (i%(niter/nframes) == 0):\n",
    "                psis.append(np.reshape(psi_long,(N-1,N-1)))\n",
    "            #ax[i].contourf(x,y,psi)\n",
    "\n",
    "        psimin = np.min(psis)\n",
    "        psimax = np.max(psis)\n",
    "        levels = np.linspace(psimin, psimax, 40)\n",
    "        paras = dict(levels=levels, vmin=psimin, vmax=psimax, origin='lower')\n",
    "\n",
    "        fig, ax = plt.subplots(figsize = (15, 10))\n",
    "        c_ = ax.contourf(x, y, psis[0], **paras)\n",
    "        cbar = plt.colorbar(c_)\n",
    "\n",
    "        def animate(i):\n",
    "            ax.clear()\n",
    "            ax.contourf(x, y, psis[i], **paras)\n",
    "            ax.set(title = f't = {round((niter/nframes)*i*dt/3600, 2)} hrs')\n",
    "\n",
    "        ani = animation.FuncAnimation(fig, animate, nframes, interval=5, blit=False)\n",
    "        plt.close()\n",
    "\n",
    "        ani.save(f'anims/anim_nu_{nu}_taucoef_{round(taucoef, 2)}_{niter*dt/3600}hrs.mp4')\n"
   ]
  }
 ],
 "metadata": {
  "kernelspec": {
   "display_name": "Python 3.8 (tensorflow\n)",
   "language": "python",
   "name": "tensorflow"
  },
  "language_info": {
   "codemirror_mode": {
    "name": "ipython",
    "version": 3
   },
   "file_extension": ".py",
   "mimetype": "text/x-python",
   "name": "python",
   "nbconvert_exporter": "python",
   "pygments_lexer": "ipython3",
   "version": "3.8.10"
  },
  "vscode": {
   "interpreter": {
    "hash": "3ad933181bd8a04b432d3370b9dc3b0662ad032c4dfaa4e4f1596c548f763858"
   }
  }
 },
 "nbformat": 4,
 "nbformat_minor": 5
}
